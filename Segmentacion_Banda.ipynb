{
  "nbformat": 4,
  "nbformat_minor": 0,
  "metadata": {
    "colab": {
      "provenance": [],
      "include_colab_link": true
    },
    "kernelspec": {
      "name": "python3",
      "display_name": "Python 3"
    },
    "language_info": {
      "name": "python"
    }
  },
  "cells": [
    {
      "cell_type": "markdown",
      "metadata": {
        "id": "view-in-github",
        "colab_type": "text"
      },
      "source": [
        "<a href=\"https://colab.research.google.com/github/CrisEsp/Buscador-de-Gifs/blob/main/Segmentacion_Banda.ipynb\" target=\"_parent\"><img src=\"https://colab.research.google.com/assets/colab-badge.svg\" alt=\"Open In Colab\"/></a>"
      ]
    },
    {
      "cell_type": "code",
      "source": [
        "from google.colab import drive\n",
        "drive.mount('/content/drive')"
      ],
      "metadata": {
        "colab": {
          "base_uri": "https://localhost:8080/"
        },
        "id": "s4Cm3YIQReKt",
        "outputId": "2c6b9109-eb4b-488a-d4ae-d343f2e37d79"
      },
      "execution_count": 2,
      "outputs": [
        {
          "output_type": "stream",
          "name": "stdout",
          "text": [
            "Mounted at /content/drive\n"
          ]
        }
      ]
    },
    {
      "cell_type": "code",
      "source": [
        "!git clone https://github.com/ultralytics/yolov5.git # clone\n",
        "%cd yolov5\n",
        "%pip install -r requirements.txt # install\n",
        "\n",
        "import torch\n",
        "import utils\n",
        "display = utils.notebook_init()  # checks"
      ],
      "metadata": {
        "colab": {
          "base_uri": "https://localhost:8080/"
        },
        "id": "3WKJRdn8YZHP",
        "outputId": "3d3b77a5-ffe8-4356-e854-611abffaca63"
      },
      "execution_count": 1,
      "outputs": [
        {
          "output_type": "stream",
          "name": "stderr",
          "text": [
            "YOLOv5 🚀 v7.0-185-g2334aa7 Python-3.10.12 torch-2.0.1+cu118 CPU\n"
          ]
        },
        {
          "output_type": "stream",
          "name": "stdout",
          "text": [
            "Setup complete ✅ (2 CPUs, 12.7 GB RAM, 24.1/225.8 GB disk)\n"
          ]
        }
      ]
    },
    {
      "cell_type": "code",
      "source": [
        "!python segment/predict.py --img 416 --weights '/content/drive/MyDrive/TRABAJO UNACEM/SEGMENTACION BANDA/Segmentacion-banda.pt' --source '/content/drive/MyDrive/TRABAJO UNACEM/SEGMENTACION BANDA/Img'"
      ],
      "metadata": {
        "colab": {
          "base_uri": "https://localhost:8080/"
        },
        "id": "-q5naGKdiv2m",
        "outputId": "c101ca8d-7d7b-4c11-e6db-097419f977bc"
      },
      "execution_count": 11,
      "outputs": [
        {
          "output_type": "stream",
          "name": "stdout",
          "text": [
            "\u001b[34m\u001b[1msegment/predict: \u001b[0mweights=['/content/drive/MyDrive/TRABAJO UNACEM/SEGMENTACION BANDA/Segmentacion-banda.pt'], source=/content/drive/MyDrive/TRABAJO UNACEM/SEGMENTACION BANDA/Img, data=data/coco128.yaml, imgsz=[416, 416], conf_thres=0.25, iou_thres=0.45, max_det=1000, device=, view_img=False, save_txt=False, save_conf=False, save_crop=False, nosave=False, classes=None, agnostic_nms=False, augment=False, visualize=False, update=False, project=runs/predict-seg, name=exp, exist_ok=False, line_thickness=3, hide_labels=False, hide_conf=False, half=False, dnn=False, vid_stride=1, retina_masks=False\n",
            "YOLOv5 🚀 v7.0-185-g2334aa7 Python-3.10.12 torch-2.0.1+cu118 CPU\n",
            "\n",
            "Fusing layers... \n",
            "Model summary: 330 layers, 88242854 parameters, 0 gradients, 264.0 GFLOPs\n",
            "image 1/7 /content/drive/MyDrive/TRABAJO UNACEM/SEGMENTACION BANDA/Img/new_ch01_0000004600000078948_00@ch01_20230501125530_timingCap (1).jpg: 416x416 1 material, 1488.9ms\n",
            "image 2/7 /content/drive/MyDrive/TRABAJO UNACEM/SEGMENTACION BANDA/Img/new_ch01_0000004600000078948_00@ch01_20230501125530_timingCap (2).jpg: 416x416 1 material, 1529.1ms\n",
            "image 3/7 /content/drive/MyDrive/TRABAJO UNACEM/SEGMENTACION BANDA/Img/new_ch01_0000004600000078948_00@ch01_20230501125530_timingCap.jpg: 416x416 1 material, 1490.3ms\n",
            "image 4/7 /content/drive/MyDrive/TRABAJO UNACEM/SEGMENTACION BANDA/Img/new_ch01_0000004600000078950_00@ch01_20230501125730_timingCap.jpg: 416x416 1 material, 1965.5ms\n",
            "image 5/7 /content/drive/MyDrive/TRABAJO UNACEM/SEGMENTACION BANDA/Img/new_ch01_0000004600000078951_00@ch01_20230501125830_timingCap.jpg: 416x416 1 material, 1562.8ms\n",
            "image 6/7 /content/drive/MyDrive/TRABAJO UNACEM/SEGMENTACION BANDA/Img/new_ch01_0000004600000078952_00@ch01_20230501125930_timingCap.jpg: 416x416 1 material, 1495.9ms\n",
            "image 7/7 /content/drive/MyDrive/TRABAJO UNACEM/SEGMENTACION BANDA/Img/new_ch01_0000004600000078953_00@ch01_20230501130030_timingCap.jpg: 416x416 1 material, 1537.2ms\n",
            "Speed: 0.5ms pre-process, 1581.4ms inference, 1.2ms NMS per image at shape (1, 3, 416, 416)\n",
            "Results saved to \u001b[1mruns/predict-seg/exp4\u001b[0m\n"
          ]
        }
      ]
    }
  ]
}